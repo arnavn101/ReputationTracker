{
 "cells": [
  {
   "cell_type": "code",
   "execution_count": null,
   "metadata": {},
   "outputs": [],
   "source": [
    "import requests\n",
    "from bs4 import BeautifulSoup\n",
    "import re\n",
    "from webxplore import WebScraper\n",
    "import time"
   ]
  },
  {
   "cell_type": "code",
   "execution_count": null,
   "metadata": {},
   "outputs": [],
   "source": [
    "defaultSearchLink = 'http://www.google.com/search?q='\n",
    "domainName = 'fool.com'\n",
    "stockName = 'tesla'\n",
    "\n",
    "dateStart = '20190101'\n",
    "dateEnd = '20200101'"
   ]
  },
  {
   "cell_type": "code",
   "execution_count": null,
   "metadata": {},
   "outputs": [],
   "source": [
    "finalSearchLink = defaultSearchLink + \\\n",
    "        f'site:{domainName}+{stockName}+after:{dateStart}+before:{dateEnd}&num=100'\n",
    "finalSearch = f'site:{domainName} {stockName}'"
   ]
  },
  {
   "cell_type": "code",
   "execution_count": null,
   "metadata": {
    "scrolled": true
   },
   "outputs": [],
   "source": [
    "listLinks = []\n",
    "i = 0\n",
    "\n",
    "while True:\n",
    "    time.sleep(3)\n",
    "       \n",
    "    resultPage = requests.get(f'{finalSearchLink}&start={100*i}')\n",
    "    htmlParser = BeautifulSoup(resultPage.content)\n",
    "    \n",
    "    links = htmlParser.findAll(\"a\")\n",
    "\n",
    "    for link in htmlParser.find_all(\"a\",href=re.compile(\"(?<=/url\\?q=)(htt.*://.*)\")):\n",
    "        specifiedLink = re.split(\":(?=http)\",link[\"href\"].replace(\"/url?q=\",\"\"))\n",
    "        listLinks.append((''.join(specifiedLink)).split(\"&sa=U\")[0])\n",
    "    \n",
    "    if len(listLinks) > 0:\n",
    "        listLinks.pop(-1)\n",
    "\n",
    "    blacklist = ['style','script']\n",
    "    text_elements = [t for t in htmlParser.find_all(text=True) if \n",
    "                     t.parent.name not in blacklist]\n",
    "\n",
    "    if 'repeat the search with the omitted results included' in text_elements:\n",
    "        break\n",
    "    i += 1\n"
   ]
  },
  {
   "cell_type": "code",
   "execution_count": null,
   "metadata": {},
   "outputs": [],
   "source": [
    "from googleapiclient.discovery import build\n",
    "\n",
    "my_api_key = \"\"\n",
    "my_cse_id = \"\"\n",
    "\n",
    "def google_search(search_term, api_key, cse_id, **kwargs):\n",
    "    service = build(\"customsearch\", \"v1\", developerKey=api_key)\n",
    "    res = service.cse().list(q=search_term, cx=cse_id, **kwargs).execute()\n",
    "    return [specificItem['link'] for specificItem in res['items']]"
   ]
  },
  {
   "cell_type": "code",
   "execution_count": null,
   "metadata": {
    "scrolled": true
   },
   "outputs": [],
   "source": [
    "listLinks = []\n",
    "i = 0\n",
    "\n",
    "while True:\n",
    "    try:\n",
    "        listLinks.extend(google_search(\n",
    "            finalSearch, my_api_key, my_cse_id, num=10, start=10*i,\n",
    "            sort=f'date:r:{dateStart}:{dateEnd}'))\n",
    "        i += 1\n",
    "    except Exception as exp:\n",
    "        break"
   ]
  },
  {
   "cell_type": "code",
   "execution_count": null,
   "metadata": {
    "scrolled": true
   },
   "outputs": [],
   "source": [
    "relevantLinks = []\n",
    "for individualLink in listLinks:\n",
    "    time.sleep(2)\n",
    "    \n",
    "    try:\n",
    "        webScraper = WebScraper.ScrapeWebsite(individualLink)\n",
    "        websiteContent = webScraper.return_article()\n",
    "    except Exception:\n",
    "        continue\n",
    "\n",
    "    if 'stock' in websiteContent.split():\n",
    "        keyWords = ''\n",
    "        relevantLinks.append(individualLink)"
   ]
  }
 ],
 "metadata": {
  "kernelspec": {
   "display_name": "Python [conda env:stocks] *",
   "language": "python",
   "name": "conda-env-stocks-py"
  },
  "language_info": {
   "codemirror_mode": {
    "name": "ipython",
    "version": 3
   },
   "file_extension": ".py",
   "mimetype": "text/x-python",
   "name": "python",
   "nbconvert_exporter": "python",
   "pygments_lexer": "ipython3",
   "version": "3.7.0"
  },
  "varInspector": {
   "cols": {
    "lenName": 16,
    "lenType": 16,
    "lenVar": 40
   },
   "kernels_config": {
    "python": {
     "delete_cmd_postfix": "",
     "delete_cmd_prefix": "del ",
     "library": "var_list.py",
     "varRefreshCmd": "print(var_dic_list())"
    },
    "r": {
     "delete_cmd_postfix": ") ",
     "delete_cmd_prefix": "rm(",
     "library": "var_list.r",
     "varRefreshCmd": "cat(var_dic_list()) "
    }
   },
   "types_to_exclude": [
    "module",
    "function",
    "builtin_function_or_method",
    "instance",
    "_Feature"
   ],
   "window_display": false
  }
 },
 "nbformat": 4,
 "nbformat_minor": 4
}
